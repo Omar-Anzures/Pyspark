{
 "cells": [
  {
   "cell_type": "code",
   "execution_count": 2,
   "metadata": {},
   "outputs": [],
   "source": [
    "import findspark \n",
    "from pyspark.sql import SparkSession\n",
    "\n",
    "findspark.init()\n",
    "spark = SparkSession.builder.getOrCreate()\n",
    "sc = spark.sparkContext"
   ]
  },
  {
   "cell_type": "code",
   "execution_count": 3,
   "metadata": {},
   "outputs": [
    {
     "data": {
      "text/plain": [
       "10"
      ]
     },
     "execution_count": 3,
     "metadata": {},
     "output_type": "execute_result"
    }
   ],
   "source": [
    "rdd = sc.parallelize([1,2,3,4,5], 10)\n",
    "rdd.getNumPartitions()"
   ]
  },
  {
   "cell_type": "code",
   "execution_count": 4,
   "metadata": {},
   "outputs": [
    {
     "data": {
      "text/plain": [
       "5"
      ]
     },
     "execution_count": 4,
     "metadata": {},
     "output_type": "execute_result"
    }
   ],
   "source": [
    "#la funcion coalesce permite dividir un rdd a partir de uno ya exsistente o se usa solo para disminuir la cantidad de particiones de manera eficiente.\n",
    "rdd2 = rdd.coalesce(5)\n",
    "rdd2.getNumPartitions()"
   ]
  },
  {
   "cell_type": "markdown",
   "metadata": {},
   "source": [
    "                        **Funcion repartition**\n",
    "***se usa para aumentar o disminuir las particiones RDD, DataFrame, Dataset**\n",
    "**Es recomendable minimizar el uso de estas opraciones porque son muy costosas ya que mezclan los datos en muchas particiones**"
   ]
  },
  {
   "cell_type": "code",
   "execution_count": 6,
   "metadata": {},
   "outputs": [
    {
     "data": {
      "text/plain": [
       "7"
      ]
     },
     "execution_count": 6,
     "metadata": {},
     "output_type": "execute_result"
    }
   ],
   "source": [
    "rdd7 = rdd.repartition(7)\n",
    "rdd7.getNumPartitions()"
   ]
  },
  {
   "cell_type": "markdown",
   "metadata": {},
   "source": [
    "                        **reduceByKey**\n",
    "**reduce por llaves** \n",
    "**El método reduceByKey(~) agrega los datos de RDD por clave y realiza una operación de reducción. Una operación de reducción es simplemente aquella en la que múltiples valores se reducen a un solo valor (por ejemplo, suma, multiplicación).**"
   ]
  },
  {
   "cell_type": "code",
   "execution_count": 7,
   "metadata": {},
   "outputs": [],
   "source": [
    "rdd_rbkey = sc.parallelize(\n",
    "    [('casa', 2),\n",
    "     ('parque', 1),\n",
    "     ('que', 5),\n",
    "     ('casa', 1),\n",
    "     ('escuela', 2),\n",
    "     ('casa', 1),\n",
    "     ('casa', 1)\n",
    "    ]\n",
    ")"
   ]
  },
  {
   "cell_type": "code",
   "execution_count": 9,
   "metadata": {},
   "outputs": [
    {
     "data": {
      "text/plain": [
       "[('casa', 2),\n",
       " ('parque', 1),\n",
       " ('que', 5),\n",
       " ('casa', 1),\n",
       " ('escuela', 2),\n",
       " ('casa', 1),\n",
       " ('casa', 1)]"
      ]
     },
     "execution_count": 9,
     "metadata": {},
     "output_type": "execute_result"
    }
   ],
   "source": [
    "rdd_rbkey.collect()"
   ]
  },
  {
   "cell_type": "code",
   "execution_count": 10,
   "metadata": {},
   "outputs": [
    {
     "data": {
      "text/plain": [
       "[('escuela', 2), ('casa', 5), ('parque', 1), ('que', 5)]"
      ]
     },
     "execution_count": 10,
     "metadata": {},
     "output_type": "execute_result"
    }
   ],
   "source": [
    "rdd_reducido = rdd_rbkey.reduceByKey(lambda x,y: x + y)\n",
    "rdd_reducido.collect()"
   ]
  }
 ],
 "metadata": {
  "kernelspec": {
   "display_name": "Python 3.10.7 64-bit",
   "language": "python",
   "name": "python3"
  },
  "language_info": {
   "codemirror_mode": {
    "name": "ipython",
    "version": 3
   },
   "file_extension": ".py",
   "mimetype": "text/x-python",
   "name": "python",
   "nbconvert_exporter": "python",
   "pygments_lexer": "ipython3",
   "version": "3.10.7"
  },
  "orig_nbformat": 4,
  "vscode": {
   "interpreter": {
    "hash": "1d0711819d275f50fdf21fccbe0c6db757647d13ff622ffbd8a20209bb10ddb6"
   }
  }
 },
 "nbformat": 4,
 "nbformat_minor": 2
}
